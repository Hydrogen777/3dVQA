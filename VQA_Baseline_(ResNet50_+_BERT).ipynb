{
  "metadata": {
    "kernelspec": {
      "language": "python",
      "display_name": "Python 3",
      "name": "python3"
    },
    "language_info": {
      "name": "python",
      "version": "3.10.13",
      "mimetype": "text/x-python",
      "codemirror_mode": {
        "name": "ipython",
        "version": 3
      },
      "pygments_lexer": "ipython3",
      "nbconvert_exporter": "python",
      "file_extension": ".py"
    },
    "kaggle": {
      "accelerator": "none",
      "dataSources": [
        {
          "sourceId": 3798293,
          "sourceType": "datasetVersion",
          "datasetId": 2264789
        }
      ],
      "dockerImageVersionId": 30733,
      "isInternetEnabled": true,
      "language": "python",
      "sourceType": "notebook",
      "isGpuEnabled": false
    },
    "colab": {
      "name": "VQA Baseline (ResNet50 + BERT)",
      "provenance": [],
      "include_colab_link": true
    }
  },
  "nbformat_minor": 0,
  "nbformat": 4,
  "cells": [
    {
      "cell_type": "markdown",
      "metadata": {
        "id": "view-in-github",
        "colab_type": "text"
      },
      "source": [
        "<a href=\"https://colab.research.google.com/github/Hydrogen777/3dVQA/blob/main/VQA_Baseline_(ResNet50_%2B_BERT).ipynb\" target=\"_parent\"><img src=\"https://colab.research.google.com/assets/colab-badge.svg\" alt=\"Open In Colab\"/></a>"
      ]
    },
    {
      "source": [
        "# IMPORTANT: RUN THIS CELL IN ORDER TO IMPORT YOUR KAGGLE DATA SOURCES,\n",
        "# THEN FEEL FREE TO DELETE THIS CELL.\n",
        "# NOTE: THIS NOTEBOOK ENVIRONMENT DIFFERS FROM KAGGLE'S PYTHON\n",
        "# ENVIRONMENT SO THERE MAY BE MISSING LIBRARIES USED BY YOUR\n",
        "# NOTEBOOK.\n",
        "import kagglehub\n",
        "bhavikardeshna_visual_question_answering_computer_vision_nlp_path = kagglehub.dataset_download('bhavikardeshna/visual-question-answering-computer-vision-nlp')\n",
        "\n",
        "print('Data source import complete.')\n"
      ],
      "metadata": {
        "id": "nIfQ8mI3FSSg"
      },
      "cell_type": "code",
      "outputs": [],
      "execution_count": null
    },
    {
      "cell_type": "code",
      "source": [
        "import torch\n",
        "import wandb\n",
        "import numpy as np\n",
        "import pandas as pd\n",
        "import transformers\n",
        "import os\n",
        "from torch.utils.data import Dataset\n",
        "from torch.utils.data import DataLoader\n",
        "from PIL import Image\n",
        "from torch import nn\n",
        "from tqdm import tqdm\n",
        "from datasets import load_dataset\n",
        "from torchvision import transforms, models\n",
        "from transformers import BertTokenizer"
      ],
      "metadata": {
        "execution": {
          "iopub.status.busy": "2024-07-04T01:42:24.367808Z",
          "iopub.execute_input": "2024-07-04T01:42:24.368112Z",
          "iopub.status.idle": "2024-07-04T01:42:32.072527Z",
          "shell.execute_reply.started": "2024-07-04T01:42:24.368069Z",
          "shell.execute_reply": "2024-07-04T01:42:32.071539Z"
        },
        "trusted": true,
        "id": "D9Y6OZVPFSSq"
      },
      "execution_count": null,
      "outputs": []
    },
    {
      "cell_type": "code",
      "source": [
        "device = torch.device(\"cuda\" if torch.cuda.is_available() else \"cpu\")"
      ],
      "metadata": {
        "execution": {
          "iopub.status.busy": "2024-07-04T01:42:32.074464Z",
          "iopub.execute_input": "2024-07-04T01:42:32.074924Z",
          "iopub.status.idle": "2024-07-04T01:42:32.138847Z",
          "shell.execute_reply.started": "2024-07-04T01:42:32.074897Z",
          "shell.execute_reply": "2024-07-04T01:42:32.13744Z"
        },
        "trusted": true,
        "id": "DYdl9s6nFSSs"
      },
      "execution_count": null,
      "outputs": []
    },
    {
      "cell_type": "code",
      "source": [
        "def set_seed(seed):\n",
        "    torch.manual_seed(seed)\n",
        "    torch.cuda.manual_seed_all(seed)\n",
        "    torch.backends.cudnn.deterministic = True\n",
        "    torch.backends.cudnn.benchmark = False\n",
        "\n",
        "set_seed(42)"
      ],
      "metadata": {
        "execution": {
          "iopub.status.busy": "2024-07-04T01:42:32.14019Z",
          "iopub.execute_input": "2024-07-04T01:42:32.140569Z",
          "iopub.status.idle": "2024-07-04T01:42:32.152014Z",
          "shell.execute_reply.started": "2024-07-04T01:42:32.140542Z",
          "shell.execute_reply": "2024-07-04T01:42:32.151236Z"
        },
        "trusted": true,
        "id": "SOC5j6OPFSSt"
      },
      "execution_count": null,
      "outputs": []
    },
    {
      "cell_type": "code",
      "source": [
        "from kaggle_secrets import UserSecretsClient\n",
        "api_key = \"wandb-api-key\"\n",
        "wandb.login(key=UserSecretsClient().get_secret(api_key), relogin=True)"
      ],
      "metadata": {
        "execution": {
          "iopub.status.busy": "2024-07-04T01:42:32.154802Z",
          "iopub.execute_input": "2024-07-04T01:42:32.155141Z",
          "iopub.status.idle": "2024-07-04T01:42:33.993548Z",
          "shell.execute_reply.started": "2024-07-04T01:42:32.155109Z",
          "shell.execute_reply": "2024-07-04T01:42:33.99155Z"
        },
        "trusted": true,
        "id": "3UTncbKiFSSu"
      },
      "execution_count": null,
      "outputs": []
    },
    {
      "cell_type": "code",
      "source": [
        "class VQADataset(Dataset):\n",
        "    def __init__(self, csv_file, image_folder, transform=None):\n",
        "        # Load dataset from CSV\n",
        "        self.data = pd.read_csv(csv_file)\n",
        "        self.image_folder = image_folder\n",
        "        self.transform = transform\n",
        "        # Initialize the tokenizer\n",
        "        self.tokenizer = BertTokenizer.from_pretrained('bert-base-uncased')\n",
        "        # Preprocess the dataset\n",
        "        self.preprocess_dataset()\n",
        "\n",
        "    def preprocess_dataset(self):\n",
        "        dataset = load_dataset(\n",
        "            \"csv\",\n",
        "            data_files={\n",
        "                \"train\": os.path.join(\"/kaggle/input/visual-question-answering-computer-vision-nlp/dataset\", \"data_train.csv\"),\n",
        "                \"test\": os.path.join(\"/kaggle/input/visual-question-answering-computer-vision-nlp/dataset\", \"data_eval.csv\")\n",
        "            }\n",
        "        )\n",
        "\n",
        "        with open(os.path.join(\"/kaggle/input/visual-question-answering-computer-vision-nlp/dataset\", \"answer_space.txt\")) as f:\n",
        "            answer_space = f.read().splitlines()\n",
        "\n",
        "        self.data = dataset.map(\n",
        "            lambda examples: {\n",
        "                'label': [\n",
        "                    answer_space.index(ans.replace(\" \", \"\").split(\",\")[0])\n",
        "                    for ans in examples['answer']\n",
        "                ]\n",
        "            },\n",
        "            batched=True\n",
        "        )\n",
        "\n",
        "        # Convert dataset to DataFrame for easy indexing\n",
        "        self.data = pd.DataFrame(self.data['train'])\n",
        "\n",
        "    def __len__(self):\n",
        "        return len(self.data)\n",
        "\n",
        "    def __getitem__(self, idx):\n",
        "        row = self.data.iloc[idx]\n",
        "        image_id = row['image_id']\n",
        "        question = row['question']\n",
        "        label = row['label']\n",
        "\n",
        "        image_path = os.path.join(self.image_folder, f\"{image_id}.png\")\n",
        "        image = Image.open(image_path).convert('RGB')\n",
        "        if self.transform:\n",
        "            image = self.transform(image)\n",
        "\n",
        "        # Tokenize the question\n",
        "        inputs = self.tokenizer(question, return_tensors='pt', padding='max_length', truncation=True, max_length=512)\n",
        "        # Ensure the tensors are in the correct format for the DataLoader\n",
        "        input_ids = inputs['input_ids'].squeeze(0)  # Remove batch dimension\n",
        "        attention_mask = inputs['attention_mask'].squeeze(0)  # Remove batch dimension\n",
        "\n",
        "        return image, input_ids, attention_mask, label"
      ],
      "metadata": {
        "execution": {
          "iopub.status.busy": "2024-07-04T01:42:33.995916Z",
          "iopub.execute_input": "2024-07-04T01:42:33.997294Z",
          "iopub.status.idle": "2024-07-04T01:42:34.014621Z",
          "shell.execute_reply.started": "2024-07-04T01:42:33.997231Z",
          "shell.execute_reply": "2024-07-04T01:42:34.013586Z"
        },
        "trusted": true,
        "id": "fazp6PMwFSSv"
      },
      "execution_count": null,
      "outputs": []
    },
    {
      "cell_type": "code",
      "source": [
        "transform = transforms.Compose([\n",
        "    transforms.Resize((224, 224)),\n",
        "    transforms.ToTensor(),\n",
        "    transforms.Normalize(mean=[0.485, 0.456, 0.406], std=[0.229, 0.224, 0.225])\n",
        "])\n",
        "\n",
        "train_dataset = VQADataset('/kaggle/input/visual-question-answering-computer-vision-nlp/dataset/data_train.csv', '/kaggle/input/visual-question-answering-computer-vision-nlp/dataset/images', transform)\n",
        "train_loader = DataLoader(train_dataset, batch_size=64, shuffle=True, num_workers=4, pin_memory=True)\n",
        "val_dataset = VQADataset('/kaggle/input/visual-question-answering-computer-vision-nlp/dataset/data_eval.csv', '/kaggle/input/visual-question-answering-computer-vision-nlp/dataset/images', transform)\n",
        "val_loader = DataLoader(val_dataset, batch_size=64, shuffle=False, num_workers=4, pin_memory=True)"
      ],
      "metadata": {
        "execution": {
          "iopub.status.busy": "2024-07-04T01:42:34.015998Z",
          "iopub.execute_input": "2024-07-04T01:42:34.016463Z",
          "iopub.status.idle": "2024-07-04T01:42:36.81892Z",
          "shell.execute_reply.started": "2024-07-04T01:42:34.016429Z",
          "shell.execute_reply": "2024-07-04T01:42:36.818046Z"
        },
        "trusted": true,
        "id": "kPrrV01eFSSw"
      },
      "execution_count": null,
      "outputs": []
    },
    {
      "cell_type": "code",
      "source": [
        "import torch\n",
        "import torch.nn as nn\n",
        "from transformers import BertModel\n",
        "from torchvision import models\n",
        "from torch.cuda.amp import autocast, GradScaler\n",
        "from torch.utils.checkpoint import checkpoint\n",
        "from tqdm import tqdm\n",
        "import matplotlib.pyplot as plt\n",
        "import json\n",
        "\n",
        "class VQAModel(nn.Module):\n",
        "    def __init__(self, num_answers):\n",
        "        super(VQAModel, self).__init__()\n",
        "        # Image feature extractor\n",
        "        self.cnn = models.resnet50(pretrained=True)\n",
        "        self.cnn.fc = nn.Identity()  # Remove the final classification layer\n",
        "\n",
        "        # Question feature extractor\n",
        "        self.bert = BertModel.from_pretrained('bert-base-uncased')\n",
        "\n",
        "        # Fusion and final classification\n",
        "        self.fc1 = nn.Linear(2048 + 768, 1024)\n",
        "        self.fc2 = nn.Linear(1024, num_answers)\n",
        "        self.dropout = nn.Dropout(0.5)\n",
        "\n",
        "    def forward(self, images, input_ids, attention_mask):\n",
        "        # Extract image features\n",
        "        image_features = checkpoint(self.cnn, images)  # Use checkpointing for ResNet\n",
        "\n",
        "        # Extract question features\n",
        "        outputs = checkpoint(self.bert, input_ids, attention_mask)\n",
        "        question_features = outputs.last_hidden_state[:, 0, :]  # shape: (batch_size, 768)\n",
        "\n",
        "        # Concatenate features\n",
        "        combined_features = torch.cat((image_features, question_features), dim=1)\n",
        "\n",
        "        # Classification\n",
        "        x = self.fc1(combined_features)\n",
        "        x = self.dropout(x)\n",
        "        x = self.fc2(x)\n",
        "        return x"
      ],
      "metadata": {
        "execution": {
          "iopub.status.busy": "2024-07-04T03:26:10.105041Z",
          "iopub.execute_input": "2024-07-04T03:26:10.105424Z",
          "iopub.status.idle": "2024-07-04T03:26:10.120316Z",
          "shell.execute_reply.started": "2024-07-04T03:26:10.10539Z",
          "shell.execute_reply": "2024-07-04T03:26:10.119266Z"
        },
        "trusted": true,
        "id": "94mMbdnYFSSx"
      },
      "execution_count": null,
      "outputs": []
    },
    {
      "cell_type": "code",
      "source": [
        "import torch.optim as optim\n",
        "from torch.nn import CrossEntropyLoss\n",
        "\n",
        "# Initialize the model\n",
        "model = VQAModel(num_answers=582)\n",
        "model.to(device)\n",
        "\n",
        "# Training parameters\n",
        "num_epochs = 100\n",
        "lr = 0.0005\n",
        "weight_decay = 1e-4\n",
        "best_loss = float('inf')\n",
        "best_model_state = None\n",
        "patience = 10  # Number of epochs to wait for improvement before stopping\n",
        "early_stopping_counter = 0\n",
        "\n",
        "# Initialize the optimizer and GradScaler for mixed precision training\n",
        "optimizer = optim.Adam(model.parameters(), lr=lr, weight_decay=weight_decay)\n",
        "scaler = GradScaler()\n",
        "\n",
        "# Define the loss function\n",
        "criterion = nn.CrossEntropyLoss()\n",
        "\n",
        "# Define scheduler\n",
        "scheduler_step_size = int(num_epochs * 0.25)\n",
        "scheduler = torch.optim.lr_scheduler.CosineAnnealingLR(optimizer, T_max=scheduler_step_size)"
      ],
      "metadata": {
        "execution": {
          "iopub.status.busy": "2024-07-04T03:26:36.501717Z",
          "iopub.execute_input": "2024-07-04T03:26:36.502469Z",
          "iopub.status.idle": "2024-07-04T03:26:37.663087Z",
          "shell.execute_reply.started": "2024-07-04T03:26:36.50243Z",
          "shell.execute_reply": "2024-07-04T03:26:37.661993Z"
        },
        "trusted": true,
        "id": "pC1Mw0ugFSSz"
      },
      "execution_count": null,
      "outputs": []
    },
    {
      "cell_type": "code",
      "source": [
        "# def calculate_accuracy(outputs, labels):\n",
        "#     _, preds = torch.max(outputs, 1)\n",
        "#     correct = (preds == labels).sum().item()\n",
        "#     total = labels.size(0)\n",
        "#     return correct / total"
      ],
      "metadata": {
        "execution": {
          "iopub.status.busy": "2024-07-04T01:42:41.984722Z",
          "iopub.execute_input": "2024-07-04T01:42:41.985008Z",
          "iopub.status.idle": "2024-07-04T01:42:41.990031Z",
          "shell.execute_reply.started": "2024-07-04T01:42:41.984983Z",
          "shell.execute_reply": "2024-07-04T01:42:41.989067Z"
        },
        "trusted": true,
        "id": "H6VPRwL5FSSz"
      },
      "execution_count": null,
      "outputs": []
    },
    {
      "cell_type": "code",
      "source": [
        "def calculate_accuracy(outputs, labels):\n",
        "        _, preds = torch.max(outputs, 1)\n",
        "        correct = (preds == labels).float().sum()\n",
        "        accuracy = correct / labels.size(0)\n",
        "        return accuracy.item()"
      ],
      "metadata": {
        "id": "pDTQ3PTZFSS0"
      },
      "execution_count": null,
      "outputs": []
    },
    {
      "cell_type": "code",
      "source": [
        "import torch\n",
        "from tqdm import tqdm\n",
        "import wandb\n",
        "\n",
        "def train_model(model, train_loader, val_loader, criterion, optimizer, scaler, device, num_epochs, patience, save_path, project_name):\n",
        "    # Initialize wandb\n",
        "    wandb.init(project=project_name)\n",
        "    wandb.watch(model, log=\"all\")\n",
        "\n",
        "    train_losses = []\n",
        "    val_losses = []\n",
        "    train_accuracies = []\n",
        "    val_accuracies = []\n",
        "    best_loss = float('inf')\n",
        "    early_stopping_counter = 0\n",
        "\n",
        "    for epoch in range(num_epochs):\n",
        "        model.train()\n",
        "        running_loss = 0.0\n",
        "        running_accuracy = 0.0\n",
        "        progress_bar = tqdm(train_loader, desc=f\"Epoch {epoch+1}/{num_epochs}\", unit=\"batch\")\n",
        "\n",
        "        for images, input_ids, attention_mask, labels in progress_bar:\n",
        "            images = images.to(device)\n",
        "            input_ids = input_ids.to(device)\n",
        "            attention_mask = attention_mask.to(device)\n",
        "            labels = labels.to(device)\n",
        "\n",
        "            optimizer.zero_grad()\n",
        "\n",
        "            with torch.cuda.amp.autocast():\n",
        "                outputs = model(images, input_ids, attention_mask)\n",
        "                loss = criterion(outputs, labels)\n",
        "\n",
        "            scaler.scale(loss).backward()\n",
        "            scaler.step(optimizer)\n",
        "            scaler.update()\n",
        "\n",
        "            running_loss += loss.item()\n",
        "            accuracy = calculate_accuracy(outputs, labels)\n",
        "            running_accuracy += accuracy\n",
        "\n",
        "        epoch_loss = running_loss / len(train_loader)\n",
        "        epoch_accuracy = running_accuracy / len(train_loader)\n",
        "\n",
        "        train_losses.append(epoch_loss)\n",
        "        train_accuracies.append(epoch_accuracy)\n",
        "\n",
        "        wandb.log({\"train_loss\": epoch_loss, \"train_accuracy\": epoch_accuracy, \"epoch\": epoch+1})\n",
        "\n",
        "        model.eval()\n",
        "        val_running_loss = 0.0\n",
        "        val_running_accuracy = 0.0\n",
        "\n",
        "        with torch.no_grad():\n",
        "            val_progress_bar = tqdm(val_loader, desc=\"Validating\", unit=\"batch\")\n",
        "            for images, input_ids, attention_mask, labels in val_progress_bar:\n",
        "                images = images.to(device)\n",
        "                input_ids = input_ids.to(device)\n",
        "                attention_mask = attention_mask.to(device)\n",
        "                labels = labels.to(device)\n",
        "\n",
        "                with torch.cuda.amp.autocast():\n",
        "                    outputs = model(images, input_ids, attention_mask)\n",
        "                    loss = criterion(outputs, labels)\n",
        "\n",
        "                val_running_loss += loss.item()\n",
        "                accuracy = calculate_accuracy(outputs, labels)\n",
        "                val_running_accuracy += accuracy\n",
        "\n",
        "        val_loss = val_running_loss / len(val_loader)\n",
        "        val_accuracy = val_running_accuracy / len(val_loader)\n",
        "\n",
        "        val_losses.append(val_loss)\n",
        "        val_accuracies.append(val_accuracy)\n",
        "\n",
        "        wandb.log({\"val_loss\": val_loss, \"val_accuracy\": val_accuracy, \"epoch\": epoch+1})\n",
        "\n",
        "        print(f\"Epoch {epoch+1}/{num_epochs}, Training Loss: {epoch_loss}, Training Accuracy: {epoch_accuracy}\")\n",
        "        print(f\"Validation Loss: {val_loss}, Validation Accuracy: {val_accuracy}\")\n",
        "\n",
        "        # Check if the validation loss improved\n",
        "        if val_loss < best_loss:\n",
        "            best_loss = val_loss\n",
        "            best_model_state = model.state_dict()\n",
        "            early_stopping_counter = 0  # Reset counter if we get a new best loss\n",
        "            print(f\"Saving model with lowest validation loss: {best_loss:.4f}\")\n",
        "            torch.save({\n",
        "                'epoch': epoch + 1,\n",
        "                'model_state_dict': model.state_dict(),\n",
        "                'optimizer_state_dict': optimizer.state_dict(),\n",
        "                'scaler_state_dict': scaler.state_dict(),\n",
        "                'best_loss': best_loss,\n",
        "                'train_losses': train_losses,\n",
        "                'val_losses': val_losses,\n",
        "                'train_accuracies': train_accuracies,\n",
        "                'val_accuracies': val_accuracies\n",
        "            }, save_path)\n",
        "        else:\n",
        "            early_stopping_counter += 1\n",
        "            print(f\"No improvement in validation loss for {early_stopping_counter} epochs.\")\n",
        "\n",
        "        # Check for early stopping\n",
        "        if early_stopping_counter >= patience:\n",
        "            print(\"Early stopping triggered.\")\n",
        "            break\n",
        "\n",
        "    # Save the final metrics\n",
        "    metrics = {\n",
        "        \"train_losses\": train_losses,\n",
        "        \"val_losses\": val_losses,\n",
        "        \"train_accuracies\": train_accuracies,\n",
        "        \"val_accuracies\": val_accuracies\n",
        "    }\n",
        "\n",
        "    wandb.finish()\n",
        "\n",
        "    return metrics\n",
        "\n",
        "def evaluate_model(model, data_loader, criterion, device):\n",
        "    model.eval()\n",
        "    running_loss = 0.0\n",
        "    running_accuracy = 0.0\n",
        "\n",
        "    def calculate_accuracy(outputs, labels):\n",
        "        _, preds = torch.max(outputs, 1)\n",
        "        correct = (preds == labels).float().sum()\n",
        "        accuracy = correct / labels.size(0)\n",
        "        return accuracy.item()\n",
        "\n",
        "    with torch.no_grad():\n",
        "        progress_bar = tqdm(data_loader, desc=\"Evaluating\", unit=\"batch\")\n",
        "        for images, input_ids, attention_mask, labels in progress_bar:\n",
        "            images = images.to(device)\n",
        "            input_ids = input_ids.to(device)\n",
        "            attention_mask = attention_mask.to(device)\n",
        "            labels = labels.to(device)\n",
        "\n",
        "            with torch.cuda.amp.autocast():\n",
        "                outputs = model(images, input_ids, attention_mask)\n",
        "                loss = criterion(outputs, labels)\n",
        "\n",
        "            running_loss += loss.item()\n",
        "            accuracy = calculate_accuracy(outputs, labels)\n",
        "            running_accuracy += accuracy\n",
        "\n",
        "    loss = running_loss / len(data_loader)\n",
        "    accuracy = running_accuracy / len(data_loader)\n",
        "\n",
        "    print(f\"Loss: {loss}, Accuracy: {accuracy}\")\n",
        "\n",
        "    return loss, accuracy"
      ],
      "metadata": {
        "execution": {
          "iopub.status.busy": "2024-07-04T05:38:43.257944Z",
          "iopub.execute_input": "2024-07-04T05:38:43.258311Z",
          "iopub.status.idle": "2024-07-04T05:38:43.283986Z",
          "shell.execute_reply.started": "2024-07-04T05:38:43.258281Z",
          "shell.execute_reply": "2024-07-04T05:38:43.283044Z"
        },
        "trusted": true,
        "id": "EG-eB1dxFSS1"
      },
      "execution_count": null,
      "outputs": []
    },
    {
      "cell_type": "code",
      "source": [
        "import json\n",
        "\n",
        "metrics = train_model(model, train_loader, val_loader, criterion, optimizer, scaler, device, num_epochs, patience, \"/kaggle/working/best_model.pth\", \"VQA_BASELINE(ResNet50-Bert)\")\n",
        "with open(\"/kaggle/working/metrics.json\", \"w\") as f:\n",
        "    json.dump(metrics, f)"
      ],
      "metadata": {
        "execution": {
          "iopub.status.busy": "2024-07-04T03:26:44.894746Z",
          "iopub.execute_input": "2024-07-04T03:26:44.89577Z",
          "iopub.status.idle": "2024-07-04T05:20:03.873549Z",
          "shell.execute_reply.started": "2024-07-04T03:26:44.895726Z",
          "shell.execute_reply": "2024-07-04T05:20:03.872704Z"
        },
        "trusted": true,
        "id": "deOTPHyJFSS2"
      },
      "execution_count": null,
      "outputs": []
    },
    {
      "cell_type": "code",
      "source": [
        "# Plot the result\n",
        "# Load the saved metrics\n",
        "with open(\"/kaggle/working/metrics.json\", \"r\") as f:\n",
        "    metrics = json.load(f)\n",
        "\n",
        "train_losses = metrics[\"train_losses\"]\n",
        "val_losses = metrics[\"val_losses\"]\n",
        "train_accuracies = metrics[\"train_accuracies\"]\n",
        "val_accuracies = metrics[\"val_accuracies\"]\n",
        "\n",
        "# Plot the metrics\n",
        "epochs = range(1, len(train_losses) + 1)\n",
        "\n",
        "plt.figure(figsize=(14, 5))\n",
        "\n",
        "plt.subplot(1, 2, 1)\n",
        "plt.plot(epochs, train_losses, label='Training Loss')\n",
        "plt.plot(epochs, val_losses, label='Validation Loss')\n",
        "plt.xlabel('Epochs')\n",
        "plt.ylabel('Loss')\n",
        "plt.legend()\n",
        "plt.title('Training and Validation Loss')\n",
        "\n",
        "plt.subplot(1, 2, 2)\n",
        "plt.plot(epochs, train_accuracies, label='Training Accuracy')\n",
        "plt.plot(epochs, val_accuracies, label='Validation Accuracy')\n",
        "plt.xlabel('Epochs')\n",
        "plt.ylabel('Accuracy')\n",
        "plt.legend()\n",
        "plt.title('Training and Validation Accuracy')\n",
        "\n",
        "plt.tight_layout()\n",
        "plt.show()"
      ],
      "metadata": {
        "execution": {
          "iopub.status.busy": "2024-07-04T05:20:03.875382Z",
          "iopub.execute_input": "2024-07-04T05:20:03.875674Z",
          "iopub.status.idle": "2024-07-04T05:20:04.51206Z",
          "shell.execute_reply.started": "2024-07-04T05:20:03.875643Z",
          "shell.execute_reply": "2024-07-04T05:20:04.51116Z"
        },
        "trusted": true,
        "id": "Aqk0R7vmFSS3"
      },
      "execution_count": null,
      "outputs": []
    },
    {
      "cell_type": "code",
      "source": [
        "class VQAModel_trained(nn.Module):\n",
        "    def __init__(self, num_answers):\n",
        "        super(VQAModel_trained, self).__init__()\n",
        "        # Image feature extractor\n",
        "        self.cnn = models.resnet50(pretrained=True)\n",
        "        self.cnn.fc = nn.Identity()  # Remove the final classification layer\n",
        "\n",
        "        # Question feature extractor\n",
        "        self.bert = BertModel.from_pretrained('bert-base-uncased')\n",
        "\n",
        "        # Fusion and final classification\n",
        "        self.fc1 = nn.Linear(2048 + 768, 1024)\n",
        "        self.fc2 = nn.Linear(1024, num_answers)\n",
        "        self.dropout = nn.Dropout(0.5)\n",
        "\n",
        "    def forward(self, images, input_ids, attention_mask):\n",
        "        # Extract image features\n",
        "        image_features = self.cnn(images)\n",
        "\n",
        "        # Extract question features\n",
        "        outputs = self.bert(input_ids, attention_mask)\n",
        "        question_features = outputs.last_hidden_state[:, 0, :]  # shape: (batch_size, 768)\n",
        "\n",
        "        # Concatenate features\n",
        "        combined_features = torch.cat((image_features, question_features), dim=1)\n",
        "\n",
        "        # Classification\n",
        "        x = self.fc1(combined_features)\n",
        "        x = self.dropout(x)\n",
        "        x = self.fc2(x)\n",
        "        return x"
      ],
      "metadata": {
        "execution": {
          "iopub.status.busy": "2024-07-04T05:20:27.607139Z",
          "iopub.execute_input": "2024-07-04T05:20:27.607544Z",
          "iopub.status.idle": "2024-07-04T05:20:27.616385Z",
          "shell.execute_reply.started": "2024-07-04T05:20:27.607511Z",
          "shell.execute_reply": "2024-07-04T05:20:27.615306Z"
        },
        "trusted": true,
        "id": "Ae2vkGg2FSS3"
      },
      "execution_count": null,
      "outputs": []
    },
    {
      "cell_type": "code",
      "source": [
        "device = torch.device('cuda' if torch.cuda.is_available() else 'cpu')\n",
        "model = VQAModel_trained(num_answers=582)  # Adjust num_answers based on your dataset\n",
        "model.to(device)\n",
        "# Load the best model checkpoint\n",
        "checkpoint_path = \"/kaggle/working/best_model.pth\"\n",
        "checkpoint = torch.load(checkpoint_path)\n",
        "model.load_state_dict(checkpoint['model_state_dict'])\n",
        "\n",
        "print(\"Best model loaded successfully.\")"
      ],
      "metadata": {
        "execution": {
          "iopub.status.busy": "2024-07-04T05:20:29.313064Z",
          "iopub.execute_input": "2024-07-04T05:20:29.313832Z",
          "iopub.status.idle": "2024-07-04T05:20:30.806053Z",
          "shell.execute_reply.started": "2024-07-04T05:20:29.313796Z",
          "shell.execute_reply": "2024-07-04T05:20:30.805112Z"
        },
        "trusted": true,
        "id": "2cqu5qkJFSS3"
      },
      "execution_count": null,
      "outputs": []
    },
    {
      "cell_type": "code",
      "source": [
        "from torch.utils.data import DataLoader\n",
        "from torchvision import transforms\n",
        "\n",
        "# Example usage\n",
        "transform = transforms.Compose([\n",
        "    transforms.Resize((224, 224)),\n",
        "    transforms.ToTensor(),\n",
        "    transforms.Normalize(mean=[0.485, 0.456, 0.406], std=[0.229, 0.224, 0.225])\n",
        "])\n",
        "\n",
        "test_dataset = VQADataset('/kaggle/input/visual-question-answering-computer-vision-nlp/dataset/data_eval.csv', '/kaggle/input/visual-question-answering-computer-vision-nlp/dataset/images', transform)\n",
        "test_loader = DataLoader(test_dataset, batch_size=1, shuffle=False)\n",
        "\n",
        "print(\"Test data loader prepared successfully.\")"
      ],
      "metadata": {
        "execution": {
          "iopub.status.busy": "2024-07-04T05:20:33.429889Z",
          "iopub.execute_input": "2024-07-04T05:20:33.430554Z",
          "iopub.status.idle": "2024-07-04T05:20:34.290266Z",
          "shell.execute_reply.started": "2024-07-04T05:20:33.430521Z",
          "shell.execute_reply": "2024-07-04T05:20:34.289366Z"
        },
        "trusted": true,
        "id": "86sHdUb0FSS4"
      },
      "execution_count": null,
      "outputs": []
    },
    {
      "cell_type": "code",
      "source": [
        "test_loss, test_accuracy = evaluate_model(model, test_loader, criterion, device)"
      ],
      "metadata": {
        "execution": {
          "iopub.status.busy": "2024-07-04T05:38:59.364474Z",
          "iopub.execute_input": "2024-07-04T05:38:59.364877Z",
          "iopub.status.idle": "2024-07-04T05:44:56.483871Z",
          "shell.execute_reply.started": "2024-07-04T05:38:59.364841Z",
          "shell.execute_reply": "2024-07-04T05:44:56.482928Z"
        },
        "trusted": true,
        "id": "CtyQBFKeFSS4"
      },
      "execution_count": null,
      "outputs": []
    },
    {
      "cell_type": "code",
      "source": [
        "!pip -q install sentence-transformers"
      ],
      "metadata": {
        "execution": {
          "iopub.status.busy": "2024-07-04T05:51:31.695589Z",
          "iopub.execute_input": "2024-07-04T05:51:31.695976Z",
          "iopub.status.idle": "2024-07-04T05:51:44.208095Z",
          "shell.execute_reply.started": "2024-07-04T05:51:31.695942Z",
          "shell.execute_reply": "2024-07-04T05:51:44.206957Z"
        },
        "trusted": true,
        "id": "4qb-i5l3FSS4"
      },
      "execution_count": null,
      "outputs": []
    },
    {
      "cell_type": "code",
      "source": [
        "import matplotlib.pyplot as plt\n",
        "import numpy as np\n",
        "from PIL import Image\n",
        "from sentence_transformers import SentenceTransformer, util\n",
        "\n",
        "# Load Sentence-BERT model\n",
        "model_sbert = SentenceTransformer('paraphrase-MiniLM-L6-v2')\n",
        "\n",
        "# Function to calculate similarity using Sentence-BERT\n",
        "def sbert_similarity(sentence1, sentence2):\n",
        "    embeddings1 = model_sbert.encode(sentence1, convert_to_tensor=True)\n",
        "    embeddings2 = model_sbert.encode(sentence2, convert_to_tensor=True)\n",
        "    cosine_scores = util.pytorch_cos_sim(embeddings1, embeddings2)\n",
        "    return cosine_scores.item()"
      ],
      "metadata": {
        "execution": {
          "iopub.status.busy": "2024-07-04T05:51:44.210285Z",
          "iopub.execute_input": "2024-07-04T05:51:44.210689Z",
          "iopub.status.idle": "2024-07-04T05:51:57.605968Z",
          "shell.execute_reply.started": "2024-07-04T05:51:44.210655Z",
          "shell.execute_reply": "2024-07-04T05:51:57.604536Z"
        },
        "trusted": true,
        "id": "bd8eILefFSS4"
      },
      "execution_count": null,
      "outputs": []
    },
    {
      "cell_type": "code",
      "source": [
        "def preprocess_answer(answer):\n",
        "    # Remove underscores from the answer\n",
        "    return answer.replace('_', ' ')"
      ],
      "metadata": {
        "execution": {
          "iopub.status.busy": "2024-07-04T05:52:40.571908Z",
          "iopub.execute_input": "2024-07-04T05:52:40.572642Z",
          "iopub.status.idle": "2024-07-04T05:52:40.577232Z",
          "shell.execute_reply.started": "2024-07-04T05:52:40.572607Z",
          "shell.execute_reply": "2024-07-04T05:52:40.576254Z"
        },
        "trusted": true,
        "id": "thV-qey0FSS4"
      },
      "execution_count": null,
      "outputs": []
    },
    {
      "cell_type": "code",
      "source": [
        "# Load answer space for mapping\n",
        "with open(os.path.join(\"/kaggle/input/visual-question-answering-computer-vision-nlp/dataset/\", \"answer_space.txt\")) as f:\n",
        "    answer_space = f.read().splitlines()\n",
        "\n",
        "model.eval()\n",
        "test_losses = []\n",
        "test_accuracies = []\n",
        "similarities = []\n",
        "\n",
        "criterion = nn.CrossEntropyLoss()"
      ],
      "metadata": {
        "execution": {
          "iopub.status.busy": "2024-07-04T05:52:48.799071Z",
          "iopub.execute_input": "2024-07-04T05:52:48.799695Z",
          "iopub.status.idle": "2024-07-04T05:52:48.815956Z",
          "shell.execute_reply.started": "2024-07-04T05:52:48.799663Z",
          "shell.execute_reply": "2024-07-04T05:52:48.815231Z"
        },
        "trusted": true,
        "id": "a87brNKTFSS4"
      },
      "execution_count": null,
      "outputs": []
    },
    {
      "cell_type": "code",
      "source": [
        "with torch.no_grad():\n",
        "    for idx, (images, input_ids, attention_mask, labels) in enumerate(test_loader):\n",
        "        images = images.to(device)\n",
        "        input_ids = input_ids.to(device)\n",
        "        attention_mask = attention_mask.to(device)\n",
        "        labels = labels.to(device)\n",
        "\n",
        "        outputs = model(images, input_ids, attention_mask)\n",
        "        loss = criterion(outputs, labels)\n",
        "\n",
        "        test_losses.append(loss.item())\n",
        "\n",
        "        _, preds = torch.max(outputs, 1)\n",
        "        accuracy = calculate_accuracy(outputs, labels)\n",
        "        test_accuracies.append(accuracy)\n",
        "\n",
        "        predicted_answer = preprocess_answer(answer_space[preds.item()])\n",
        "        actual_answer = preprocess_answer(answer_space[labels.item()])\n",
        "\n",
        "        similarity = sbert_similarity(predicted_answer, actual_answer)\n",
        "        similarities.append(similarity)\n",
        "\n",
        "        # Plotting the image with question and answers\n",
        "        image = images.cpu().squeeze().permute(1, 2, 0).numpy()\n",
        "        image = image * np.array([0.229, 0.224, 0.225]) + np.array([0.485, 0.456, 0.406])\n",
        "        image = np.clip(image, 0, 1)\n",
        "\n",
        "        plt.imshow(image)\n",
        "        plt.title(f\"Question: {test_dataset.data.iloc[idx]['question']}\\nPredicted: {predicted_answer}\\nActual: {actual_answer}\\nSBERT Similarity: {similarity:.4f}\")\n",
        "        plt.axis('off')\n",
        "        plt.show()\n",
        "\n",
        "        if idx >= 49:  # Display only 50 samples\n",
        "            break\n",
        "\n",
        "# Print average similarity score\n",
        "average_similarity = np.mean(similarities)\n",
        "print(f\"Average SBERT Similarity: {average_similarity:.4f}\")"
      ],
      "metadata": {
        "execution": {
          "iopub.status.busy": "2024-07-04T05:52:58.433566Z",
          "iopub.execute_input": "2024-07-04T05:52:58.434431Z",
          "iopub.status.idle": "2024-07-04T05:53:18.470538Z",
          "shell.execute_reply.started": "2024-07-04T05:52:58.434386Z",
          "shell.execute_reply": "2024-07-04T05:53:18.469691Z"
        },
        "trusted": true,
        "id": "Qe2vGAV-FSS5"
      },
      "execution_count": null,
      "outputs": []
    },
    {
      "cell_type": "code",
      "source": [
        "# Plot test accuracy and test loss\n",
        "plt.figure(figsize=(14, 6))\n",
        "\n",
        "# Test Loss\n",
        "plt.subplot(1, 2, 1)\n",
        "plt.plot(test_losses, label='Test Loss')\n",
        "plt.xlabel('Batch')\n",
        "plt.ylabel('Loss')\n",
        "plt.title('Test Loss')\n",
        "plt.legend()\n",
        "\n",
        "# Test Accuracy\n",
        "plt.subplot(1, 2, 2)\n",
        "plt.plot(test_accuracies, label='Test Accuracy')\n",
        "plt.xlabel('Batch')\n",
        "plt.ylabel('Accuracy')\n",
        "plt.title('Test Accuracy')\n",
        "plt.legend()\n",
        "\n",
        "plt.show()"
      ],
      "metadata": {
        "execution": {
          "iopub.status.busy": "2024-07-04T05:54:07.546713Z",
          "iopub.execute_input": "2024-07-04T05:54:07.547461Z",
          "iopub.status.idle": "2024-07-04T05:54:07.992105Z",
          "shell.execute_reply.started": "2024-07-04T05:54:07.547429Z",
          "shell.execute_reply": "2024-07-04T05:54:07.990978Z"
        },
        "trusted": true,
        "id": "uu-I3rfaFSS5"
      },
      "execution_count": null,
      "outputs": []
    },
    {
      "cell_type": "code",
      "source": [
        "# Similarity\n",
        "plt.figure(figsize=(14, 6))\n",
        "plt.subplot(1, 1, 1)\n",
        "plt.plot(similarities, label='SBERT Similarity')\n",
        "plt.xlabel('Batch')\n",
        "plt.ylabel('Similarity')\n",
        "plt.title('SBERT Similarity')\n",
        "plt.legend()\n",
        "plt.show()"
      ],
      "metadata": {
        "execution": {
          "iopub.status.busy": "2024-07-04T05:54:21.740288Z",
          "iopub.execute_input": "2024-07-04T05:54:21.740688Z",
          "iopub.status.idle": "2024-07-04T05:54:21.984297Z",
          "shell.execute_reply.started": "2024-07-04T05:54:21.74066Z",
          "shell.execute_reply": "2024-07-04T05:54:21.983418Z"
        },
        "trusted": true,
        "id": "RKfIQMaZFSS5"
      },
      "execution_count": null,
      "outputs": []
    }
  ]
}